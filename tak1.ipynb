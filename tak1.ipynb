{
 "cells": [
  {
   "cell_type": "code",
   "execution_count": 18,
   "id": "c01aedf8",
   "metadata": {},
   "outputs": [],
   "source": [
    "import pyopenms"
   ]
  },
  {
   "cell_type": "code",
   "execution_count": 15,
   "id": "f45cd196",
   "metadata": {},
   "outputs": [
    {
     "name": "stdout",
     "output_type": "stream",
     "text": [
      "387.2481710527\n"
     ]
    }
   ],
   "source": [
    "seq=AASequence.fromString(\"VAKA\")\n",
    "allseq=seq.getMonoWeight()\n",
    "print(allseq)"
   ]
  },
  {
   "cell_type": "code",
   "execution_count": 29,
   "id": "5e5fcc30",
   "metadata": {},
   "outputs": [
    {
     "name": "stdout",
     "output_type": "stream",
     "text": [
      "441.2798662441\n"
     ]
    }
   ],
   "source": [
    "d=0\n",
    "for aa in seq:\n",
    "    d=d+aa.getMonoWeight()\n",
    "    \n",
    "print(d)"
   ]
  },
  {
   "cell_type": "code",
   "execution_count": 28,
   "id": "6d258571",
   "metadata": {},
   "outputs": [
    {
     "name": "stdout",
     "output_type": "stream",
     "text": [
      "387.2481710527\n"
     ]
    }
   ],
   "source": [
    "water = EmpiricalFormula(\"H2O\")\n",
    "water3=(water.getMonoWeight())*3\n",
    "print(d-water3)"
   ]
  },
  {
   "cell_type": "code",
   "execution_count": null,
   "id": "fe06a315",
   "metadata": {},
   "outputs": [],
   "source": []
  }
 ],
 "metadata": {
  "kernelspec": {
   "display_name": "Python 3 (ipykernel)",
   "language": "python",
   "name": "python3"
  },
  "language_info": {
   "codemirror_mode": {
    "name": "ipython",
    "version": 3
   },
   "file_extension": ".py",
   "mimetype": "text/x-python",
   "name": "python",
   "nbconvert_exporter": "python",
   "pygments_lexer": "ipython3",
   "version": "3.9.7"
  }
 },
 "nbformat": 4,
 "nbformat_minor": 5
}
