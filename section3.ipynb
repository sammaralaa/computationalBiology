{
 "cells": [
  {
   "cell_type": "code",
   "execution_count": 1,
   "id": "6375457d",
   "metadata": {},
   "outputs": [
    {
     "name": "stdout",
     "output_type": "stream",
     "text": [
      "Sequence: DFPIANGER\n",
      "Prefix: DFPI\n",
      "Suffix: ANGER\n",
      "Concatenated: DFPIANGERDFPIANGER\n"
     ]
    }
   ],
   "source": [
    "from pyopenms import *\n",
    "seq = AASequence.fromString(\"DFPIANGER\")    \n",
    "\n",
    "prefix = seq.getPrefix(4)                    \n",
    "\n",
    "suffix = seq.getSuffix(5)                   \n",
    "\n",
    "concat = seq + seq\n",
    "\n",
    "print(\"Sequence:\", seq)\n",
    "print(\"Prefix:\", prefix)\n",
    "print(\"Suffix:\", suffix)\n",
    "print(\"Concatenated:\", concat)"
   ]
  },
  {
   "cell_type": "code",
   "execution_count": 2,
   "id": "cf162784",
   "metadata": {},
   "outputs": [
    {
     "name": "stdout",
     "output_type": "stream",
     "text": [
      "Monoisotopic mass of peptide [M] is 1017.4879641373001\n",
      "Monoisotopic mass of peptide precursor [M+2H]2+ is 1019.5025170708419\n",
      "Monoisotopic m/z of [M+2H]2+ is 509.75125853542096\n"
     ]
    }
   ],
   "source": [
    "mfull = seq.getMonoWeight()                                   \n",
    "mprecursor = seq.getMonoWeight(Residue.ResidueType.Full, 2)    \n",
    "mz = seq.getMonoWeight(Residue.ResidueType.Full, 2) / 2.0     \n",
    "mz = seq.getMZ(2) \n",
    "\n",
    "print(\"Monoisotopic mass of peptide [M] is\", mfull)\n",
    "print(\"Monoisotopic mass of peptide precursor [M+2H]2+ is\", mprecursor)\n",
    "print(\"Monoisotopic m/z of [M+2H]2+ is\", mz)"
   ]
  },
  {
   "cell_type": "code",
   "execution_count": 7,
   "id": "e73710fa",
   "metadata": {},
   "outputs": [
    {
     "name": "stdout",
     "output_type": "stream",
     "text": [
      "The peptide DFPIANGER consists of the following amino acids:\n",
      "Aspartate : 133.0375092233\n",
      "Phenylalanine : 165.0789793509\n",
      "Proline : 115.06332928709999\n",
      "Isoleucine : 131.0946294147\n",
      "Alanine : 89.0476792233\n",
      "Asparagine : 132.0534932552\n",
      "Glycine : 75.0320291595\n",
      "Glutamate : 147.0531592871\n",
      "Arginine : 174.1116764466\n",
      "Peptide DFPIANGER has molecular formula C44H67N13O15\n",
      "y3 ion sequence: GER\n",
      "y3 mz: 181.09514384957103\n",
      "y3 molecular formula: C13H24N6O6\n"
     ]
    }
   ],
   "source": [
    "print(\"The peptide\", str(seq), \"consists of the following amino acids:\")\n",
    "for aa in seq:\n",
    "    print(aa.getName(), \":\", aa.getMonoWeight())\n",
    "    \n",
    "seq_formula = seq.getFormula()\n",
    "print(\"Peptide\", seq, \"has molecular formula\", seq_formula)\n",
    "\n",
    "\n",
    "suffix = seq.getSuffix(3)                                         \n",
    "print(\"y3 ion sequence:\", suffix)\n",
    "\n",
    "y3_formula = suffix.getFormula(Residue.ResidueType.YIon, 2)        \n",
    "\n",
    "suffix.getMonoWeight(Residue.ResidueType.YIon, 2) / 2.0            \n",
    "\n",
    "suffix.getMonoWeight(Residue.ResidueType.XIon, 2) / 2.0            \n",
    "\n",
    "\n",
    "\n",
    "print(\"y3 mz:\", suffix.getMonoWeight(Residue.ResidueType.YIon, 2) / 2.0 )\n",
    "\n",
    "print(\"y3 molecular formula:\", y3_formula)"
   ]
  },
  {
   "cell_type": "code",
   "execution_count": 8,
   "id": "7616ba09",
   "metadata": {},
   "outputs": [
    {
     "name": "stdout",
     "output_type": "stream",
     "text": [
      "PEPTIDESEKUEMCER\n",
      "PEPTIDESEKUEM(Oxidation)CER\n",
      "PEPTIDESEKUEM(UniMod:35)CER\n",
      "PEPTIDESEKUEM[147]CER\n",
      "PEPTIDESEKUEM[147.03540001709996]CER\n",
      "===================================\n",
      "DFPIAM(Oxidation)GER\n",
      "DFPIAM(Oxidation)GER\n",
      "DFPIAM(Oxidation)GER\n",
      "DFPIAM(Oxidation)GER\n",
      "DFPIAM(Oxidation)GER\n"
     ]
    }
   ],
   "source": [
    "seq = AASequence.fromString(\"PEPTIDESEKUEM(Oxidation)CER\")\n",
    "print(seq.toUnmodifiedString())\n",
    "print(seq.toString())\n",
    "print(seq.toUniModString())\n",
    "print(seq.toBracketString())\n",
    "print(seq.toBracketString(False))\n",
    " \n",
    "print(\"=\"*35)\n",
    "print(AASequence.fromString(\"DFPIAM(UniMod:35)GER\"))\n",
    "\n",
    "print(AASequence.fromString(\"DFPIAM[+16]GER\"))\n",
    "\n",
    "print(AASequence.fromString(\"DFPIAM[+15.99]GER\"))\n",
    "\n",
    "print(AASequence.fromString(\"DFPIAM[147]GER\"))\n",
    "\n",
    "print(AASequence.fromString(\"DFPIAM[147.035405]GER\"))"
   ]
  },
  {
   "cell_type": "code",
   "execution_count": 9,
   "id": "b872134b",
   "metadata": {},
   "outputs": [
    {
     "name": "stdout",
     "output_type": "stream",
     "text": [
      "2\n",
      "BSA MKWVTFISLLLLFSSAYSRGVFRRDTHKSEIAHRFKDLGE\n",
      "ALB MKWVTFISLLFLFSSAYSRGVFRRDAHKSEVAHRFKDLGE\n"
     ]
    }
   ],
   "source": [
    "bsa = FASTAEntry() \n",
    "\n",
    "bsa.sequence = \"MKWVTFISLLLLFSSAYSRGVFRRDTHKSEIAHRFKDLGE\"\n",
    "\n",
    "bsa.description = \"BSA Bovine Albumin (partial sequence)\"\n",
    "\n",
    "bsa.identifier = \"BSA\"\n",
    "\n",
    "alb = FASTAEntry()\n",
    "\n",
    "alb.sequence = \"MKWVTFISLLFLFSSAYSRGVFRRDAHKSEVAHRFKDLGE\"\n",
    "\n",
    "alb.description = \"ALB Human Albumin (partial sequence)\"\n",
    "\n",
    "alb.identifier = \"ALB\"\n",
    "\n",
    "\n",
    "entries = [bsa, alb]\n",
    "\n",
    "f = FASTAFile()\n",
    "\n",
    "f.store(\"example.fasta\", entries)\n",
    "\n",
    "entries = []\n",
    "\n",
    "f = FASTAFile()\n",
    "\n",
    "f.load(\"example.fasta\", entries)\n",
    "\n",
    "print( len(entries) )\n",
    "\n",
    "for e in entries:\n",
    "    print (e.identifier, e.sequence)"
   ]
  },
  {
   "cell_type": "code",
   "execution_count": null,
   "id": "900b25df",
   "metadata": {},
   "outputs": [],
   "source": []
  }
 ],
 "metadata": {
  "kernelspec": {
   "display_name": "Python 3 (ipykernel)",
   "language": "python",
   "name": "python3"
  },
  "language_info": {
   "codemirror_mode": {
    "name": "ipython",
    "version": 3
   },
   "file_extension": ".py",
   "mimetype": "text/x-python",
   "name": "python",
   "nbconvert_exporter": "python",
   "pygments_lexer": "ipython3",
   "version": "3.9.7"
  }
 },
 "nbformat": 4,
 "nbformat_minor": 5
}
