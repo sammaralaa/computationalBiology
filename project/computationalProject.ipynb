{
 "cells": [
  {
   "cell_type": "code",
   "execution_count": 2,
   "id": "06a6bf17",
   "metadata": {},
   "outputs": [],
   "source": [
    "from pyopenms import*\n",
    "import matplotlib.pyplot as plt\n",
    "import pandas as pd\n",
    "import numpy as np"
   ]
  },
  {
   "cell_type": "code",
   "execution_count": 3,
   "id": "ec18cfd7",
   "metadata": {},
   "outputs": [],
   "source": [
    "exp = MSExperiment()\n",
    "MzMLFile().load(\"C:\\\\Users\\\\DELL\\\\Downloads\\\\FP062822_10.mzML\", exp)"
   ]
  },
  {
   "cell_type": "code",
   "execution_count": 24,
   "id": "2a6474ac",
   "metadata": {},
   "outputs": [],
   "source": [
    "#peptide search\n",
    "protein_ids = []\n",
    "peptide_ids = []\n",
    "SimpleSearchEngineAlgorithm().search(\"FP062822_10.mzML\", \"uniprot33.fasta\", protein_ids, peptide_ids)"
   ]
  },
  {
   "cell_type": "code",
   "execution_count": 25,
   "id": "d1fc3555",
   "metadata": {},
   "outputs": [
    {
     "name": "stdout",
     "output_type": "stream",
     "text": [
      "3\n"
     ]
    }
   ],
   "source": [
    "print(len(peptide_ids))"
   ]
  },
  {
   "cell_type": "code",
   "execution_count": 26,
   "id": "f258e2b9",
   "metadata": {},
   "outputs": [
    {
     "name": "stdout",
     "output_type": "stream",
     "text": [
      "                         peptides     score\n",
      "0  HGGTC(Carbamidomethyl)HNEVGSYR  0.338039\n",
      "1                        NSSFHFLR  0.014190\n",
      "2                        NSSFHFLR  0.030846\n"
     ]
    }
   ],
   "source": [
    "df=pd.DataFrame(columns=['peptides','score'])\n",
    "    \n",
    "\n",
    "for peptide_id in peptide_ids:\n",
    "    for hit in peptide_id.getHits():\n",
    "        df=df.append({'peptides':hit.getSequence(),'score':hit.getScore()},ignore_index=True)\n",
    "        \n",
    "print(df)"
   ]
  },
  {
   "cell_type": "code",
   "execution_count": 27,
   "id": "71f73c53",
   "metadata": {},
   "outputs": [
    {
     "name": "stdout",
     "output_type": "stream",
     "text": [
      "===================================\n",
      "Peptide ID m/z: 492.213348388672\n",
      "Peptide ID rt: 722.48622\n",
      "Peptide scan index: 649\n",
      "Peptide scan name: 649\n",
      "Peptide ID score type: hyperscore\n",
      " - Peptide hit rank: 1\n",
      " - Peptide hit charge: 3\n",
      " - Peptide hit sequence: HGGTC(Carbamidomethyl)HNEVGSYR\n",
      " - Peptide hit monoisotopic m/z: 491.8811153125044\n",
      " - Peptide ppm error: 675.4336888020617\n",
      " - Peptide hit score: 0.3380391001701355\n",
      "===================================\n",
      "Peptide ID m/z: 504.259583072811\n",
      "Peptide ID rt: 1090.38378\n",
      "Peptide scan index: 2547\n",
      "Peptide scan name: 2547\n",
      "Peptide ID score type: hyperscore\n",
      " - Peptide hit rank: 1\n",
      " - Peptide hit charge: 2\n",
      " - Peptide hit sequence: NSSFHFLR\n",
      " - Peptide hit monoisotopic m/z: 504.25651051947096\n",
      " - Peptide ppm error: 6.093234843618378\n",
      " - Peptide hit score: 0.014190462417900562\n",
      "===================================\n",
      "Peptide ID m/z: 504.259709362821\n",
      "Peptide ID rt: 1096.57086\n",
      "Peptide scan index: 2556\n",
      "Peptide scan name: 2556\n",
      "Peptide ID score type: hyperscore\n",
      " - Peptide hit rank: 1\n",
      " - Peptide hit charge: 2\n",
      " - Peptide hit sequence: NSSFHFLR\n",
      " - Peptide hit monoisotopic m/z: 504.25651051947096\n",
      " - Peptide ppm error: 6.343682794999236\n",
      " - Peptide hit score: 0.030845526605844498\n"
     ]
    }
   ],
   "source": [
    "for peptide_id in peptide_ids:\n",
    "    \n",
    "      # Peptide identification values\n",
    "    print (35*\"=\")\n",
    "    print (\"Peptide ID m/z:\", peptide_id.getMZ())\n",
    "    print (\"Peptide ID rt:\", peptide_id.getRT())\n",
    "    print (\"Peptide scan index:\", peptide_id.getMetaValue(\"scan_index\"))\n",
    "    print (\"Peptide scan name:\", peptide_id.getMetaValue(\"scan_index\"))\n",
    "    print (\"Peptide ID score type:\", peptide_id.getScoreType())\n",
    "      # PeptideHits\n",
    "    for hit in peptide_id.getHits():\n",
    "        \n",
    "        print(\" - Peptide hit rank:\", hit.getRank())\n",
    "        print(\" - Peptide hit charge:\", hit.getCharge())\n",
    "        print(\" - Peptide hit sequence:\", hit.getSequence())\n",
    "        mz = hit.getSequence().getMonoWeight(Residue.ResidueType.Full, hit.getCharge()) / hit.getCharge()\n",
    "        print(\" - Peptide hit monoisotopic m/z:\", mz)\n",
    "        print(\" - Peptide ppm error:\", abs(mz - peptide_id.getMZ())/mz *10**6 )\n",
    "        print(\" - Peptide hit score:\", hit.getScore())"
   ]
  },
  {
   "cell_type": "code",
   "execution_count": 28,
   "id": "b11a2c4a",
   "metadata": {},
   "outputs": [],
   "source": [
    "seq = \"HGGTC(Carbamidomethyl)HNEVGSYR\"\n",
    "tsg = TheoreticalSpectrumGenerator()\n",
    "theo_spec = MSSpectrum()\n",
    "p = tsg.getParameters()\n",
    "p.setValue(\"add_y_ions\", \"true\")\n",
    "p.setValue(\"add_b_ions\", \"true\")\n",
    "p.setValue(\"add_metainfo\", \"true\")\n",
    "tsg.setParameters(p)\n",
    "peptide = AASequence.fromString(seq)\n",
    "tsg.getSpectrum(theo_spec, peptide, 1, 2)"
   ]
  },
  {
   "cell_type": "code",
   "execution_count": 43,
   "id": "fb8420af",
   "metadata": {},
   "outputs": [
    {
     "name": "stdout",
     "output_type": "stream",
     "text": [
      "177.824951171875\n",
      "1186.8929443359375\n",
      "(array([ 177.82495117,  198.38008118,  219.55996704,  231.21707153,\n",
      "        276.40286255,  301.30502319,  325.15158081,  330.88357544,\n",
      "        594.80895996, 1186.89294434]), array([2421.534 , 2275.583 , 2196.5964, 2752.2786, 2273.0193, 2120.005 ,\n",
      "       2209.076 , 2555.3271, 2705.287 , 3375.9734], dtype=float32))\n"
     ]
    }
   ],
   "source": [
    "exp_spectrum=MSExperiment()\n",
    "exp_spectrum.addSpectrum(exp[2556])\n",
    "obs_mz, obs_int = exp[2556].get_peaks()\n",
    "print(min(obs_mz)) \n",
    "print(max(obs_mz)) \n",
    "print(exp[2556].get_peaks())"
   ]
  },
  {
   "cell_type": "code",
   "execution_count": 42,
   "id": "4c87be9c",
   "metadata": {},
   "outputs": [
    {
     "name": "stdout",
     "output_type": "stream",
     "text": [
      "[2421.534  2275.583  2196.5964 2752.2786 2273.0193 2120.005  2209.076\n",
      " 2555.3271 2705.287  3375.9734]\n"
     ]
    }
   ],
   "source": [
    "print(obs_int)"
   ]
  },
  {
   "cell_type": "code",
   "execution_count": 44,
   "id": "9b4ece26",
   "metadata": {},
   "outputs": [],
   "source": [
    "theo_mz, theo_int = [], []\n",
    "for mz, intensity in zip(*theo_spec.get_peaks()):\n",
    "    if mz >= 177.0 and mz <= 1187.0:\n",
    "        theo_mz.append(mz)\n",
    "        theo_int.append(intensity)"
   ]
  },
  {
   "cell_type": "code",
   "execution_count": 45,
   "id": "5ac48984",
   "metadata": {},
   "outputs": [
    {
     "data": {
      "image/png": "[encoded data removed]",
      "text/plain": [
       "<Figure size 864x576 with 1 Axes>"
      ]
     },
     "metadata": {
      "needs_background": "light"
     },
     "output_type": "display_data"
    }
   ],
   "source": [
    "def mirror_plot(obs_mz, obs_int, theo_mz, theo_int, title):\n",
    "    \n",
    "    obs_int = [element / max(obs_int) for element in obs_int] # relative intenstiy\n",
    "    theo_int = [element * -1 for element in theo_int] # invert the intensity for the mirror plot\n",
    "    plt.figure(figsize=(12,8))\n",
    "    plt.bar(obs_mz, obs_int, width = 4.0)\n",
    "    plt.bar(theo_mz, theo_int, width = 4.0)\n",
    "    plt.title(title)\n",
    "    plt.ylabel('intensity')\n",
    "    plt.xlabel('m/z')\n",
    "    plt.show()\n",
    "    \n",
    "title = 'Observed vs theoretical spectrum'\n",
    "mirror_plot(obs_mz, obs_int, theo_mz, theo_int, title)"
   ]
  },
  {
   "cell_type": "code",
   "execution_count": 46,
   "id": "ee71d941",
   "metadata": {},
   "outputs": [],
   "source": [
    "alignment = []\n",
    "spa = SpectrumAlignment()\n",
    "p = spa.getParameters()\n",
    "# use 0.5 Da tolerance (Note: for high-resolution data we could also use ppm by setting the is_relative_tolerance value to true)\n",
    "p.setValue(\"tolerance\", 0.5)\n",
    "p.setValue(\"is_relative_tolerance\", \"false\")\n",
    "spa.setParameters(p)\n",
    "# align both spectra\n",
    "observed_spec= exp[649]\n",
    "spa.getSpectrumAlignment(alignment, theo_spec,exp_spectrum[0])"
   ]
  },
  {
   "cell_type": "code",
   "execution_count": 47,
   "id": "71fec790",
   "metadata": {},
   "outputs": [
    {
     "name": "stdout",
     "output_type": "stream",
     "text": [
      "Number of matched peaks: 1\n",
      "ion\ttheo. m/z\tobserved m/z\n",
      "b6++\t2\t325.626816890021\t325.1515808105469\n"
     ]
    }
   ],
   "source": [
    "# Print matching ions and mz from theoretical spectrum\n",
    "print(\"Number of matched peaks: \" + str(len(alignment)))\n",
    "print(\"ion\\ttheo. m/z\\tobserved m/z\")\n",
    "\n",
    "for theo_idx, obs_idx in alignment:\n",
    "    ion_name = theo_spec.getStringDataArrays()[0][theo_idx].decode()\n",
    "    ion_charge = theo_spec.getIntegerDataArrays()[0][theo_idx]\n",
    "    print(ion_name + \"\\t\" + str(ion_charge) + \"\\t\"\n",
    "      + str(theo_spec[theo_idx].getMZ())\n",
    "      + \"\\t\" + str(exp_spectrum[0][obs_idx].getMZ()))"
   ]
  },
  {
   "cell_type": "code",
   "execution_count": 48,
   "id": "b2e79021",
   "metadata": {},
   "outputs": [
    {
     "data": {
      "image/png": "[encoded data removed]",
      "text/plain": [
       "<Figure size 864x576 with 1 Axes>"
      ]
     },
     "metadata": {
      "needs_background": "light"
     },
     "output_type": "display_data"
    }
   ],
   "source": [
    "theo_mz, theo_int, obs_mz, obs_int = [], [], [], []\n",
    "for theo_idx, obs_idx in alignment:\n",
    "    theo_mz.append(theo_spec[theo_idx].getMZ())\n",
    "    theo_int.append(theo_spec[theo_idx].getIntensity())\n",
    "    obs_mz.append(exp_spectrum[0][obs_idx].getMZ())\n",
    "    obs_int.append(exp_spectrum[0][obs_idx].getIntensity())\n",
    "\n",
    "title = 'Observed vs theoretical spectrum (aligned)'\n",
    "mirror_plot(obs_mz, obs_int, theo_mz, theo_int, title)"
   ]
  },
  {
   "cell_type": "code",
   "execution_count": 47,
   "id": "514f8ef9",
   "metadata": {},
   "outputs": [],
   "source": [
    "\n"
   ]
  },
  {
   "cell_type": "code",
   "execution_count": null,
   "id": "75927e47",
   "metadata": {},
   "outputs": [],
   "source": []
  }
 ],
 "metadata": {
  "kernelspec": {
   "display_name": "Python 3 (ipykernel)",
   "language": "python",
   "name": "python3"
  },
  "language_info": {
   "codemirror_mode": {
    "name": "ipython",
    "version": 3
   },
   "file_extension": ".py",
   "mimetype": "text/x-python",
   "name": "python",
   "nbconvert_exporter": "python",
   "pygments_lexer": "ipython3",
   "version": "3.9.7"
  }
 },
 "nbformat": 4,
 "nbformat_minor": 5
}
